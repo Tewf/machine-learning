{
  "nbformat": 4,
  "nbformat_minor": 0,
  "metadata": {
    "colab": {
      "provenance": []
    },
    "kernelspec": {
      "name": "python3",
      "display_name": "Python 3"
    },
    "language_info": {
      "name": "python"
    }
  },
  "cells": [
    {
      "cell_type": "code",
      "execution_count": null,
      "metadata": {
        "id": "uPDK2ohhCcNh",
        "colab": {
          "base_uri": "https://localhost:8080/"
        },
        "outputId": "9e35072a-24c9-47f9-921b-f8f7889982ec"
      },
      "outputs": [
        {
          "output_type": "stream",
          "name": "stdout",
          "text": [
            "2002\n",
            "2009\n",
            "2016\n",
            "2023\n",
            "2037\n",
            "2044\n",
            "2051\n",
            "2058\n",
            "2072\n",
            "2079\n",
            "2086\n",
            "2093\n",
            "2107\n",
            "2114\n",
            "2121\n",
            "2128\n",
            "2142\n",
            "2149\n",
            "2156\n",
            "2163\n",
            "2177\n",
            "2184\n",
            "2191\n",
            "2198\n",
            "2212\n",
            "2219\n",
            "2226\n",
            "2233\n",
            "2247\n",
            "2254\n",
            "2261\n",
            "2268\n",
            "2282\n",
            "2289\n",
            "2296\n",
            "2303\n",
            "2317\n",
            "2324\n",
            "2331\n",
            "2338\n",
            "2352\n",
            "2359\n",
            "2366\n",
            "2373\n",
            "2387\n",
            "2394\n",
            "2401\n",
            "2408\n",
            "2422\n",
            "2429\n",
            "2436\n",
            "2443\n",
            "2457\n",
            "2464\n",
            "2471\n",
            "2478\n",
            "2492\n",
            "2499\n",
            "2506\n",
            "2513\n",
            "2527\n",
            "2534\n",
            "2541\n",
            "2548\n",
            "2562\n",
            "2569\n",
            "2576\n",
            "2583\n",
            "2597\n",
            "2604\n",
            "2611\n",
            "2618\n",
            "2632\n",
            "2639\n",
            "2646\n",
            "2653\n",
            "2667\n",
            "2674\n",
            "2681\n",
            "2688\n",
            "2702\n",
            "2709\n",
            "2716\n",
            "2723\n",
            "2737\n",
            "2744\n",
            "2751\n",
            "2758\n",
            "2772\n",
            "2779\n",
            "2786\n",
            "2793\n",
            "2807\n",
            "2814\n",
            "2821\n",
            "2828\n",
            "2842\n",
            "2849\n",
            "2856\n",
            "2863\n",
            "2877\n",
            "2884\n",
            "2891\n",
            "2898\n",
            "2912\n",
            "2919\n",
            "2926\n",
            "2933\n",
            "2947\n",
            "2954\n",
            "2961\n",
            "2968\n",
            "2982\n",
            "2989\n",
            "2996\n",
            "3003\n",
            "3017\n",
            "3024\n",
            "3031\n",
            "3038\n",
            "3052\n",
            "3059\n",
            "3066\n",
            "3073\n",
            "3087\n",
            "3094\n",
            "3101\n",
            "3108\n",
            "3122\n",
            "3129\n",
            "3136\n",
            "3143\n",
            "3157\n",
            "3164\n",
            "3171\n",
            "3178\n",
            "3192\n",
            "3199\n"
          ]
        }
      ],
      "source": [
        "for i in range (2000,3201):\n",
        "  if i%7==0 and i%5!=0:\n",
        "    print(i)"
      ]
    },
    {
      "cell_type": "code",
      "source": [
        "x=i=int(input('entrez le chiffre'))\n",
        "if x==0:\n",
        "    print('RESULT IS 1')\n",
        "elif x==1:\n",
        "    print('RESULT IS 1')\n",
        "elif x<0:\n",
        "    print('error')\n",
        "else:\n",
        "    while x>1 :\n",
        "        i=(i)*(x-1)\n",
        "        x=x-1\n",
        "    print(i)"
      ],
      "metadata": {
        "id": "_iKdorFBCrpG",
        "colab": {
          "base_uri": "https://localhost:8080/"
        },
        "outputId": "06ec7d3b-6805-480e-caab-4cdc4988fc45"
      },
      "execution_count": 1,
      "outputs": [
        {
          "output_type": "stream",
          "name": "stdout",
          "text": [
            "entrez le chiffre5\n",
            "120\n"
          ]
        }
      ]
    },
    {
      "cell_type": "code",
      "source": [
        "n=int(input('entrez le chiffre'))\n",
        "d=dict()\n",
        "for x in range (1,n+1):\n",
        "    d[x]=x*x\n",
        "print(d)"
      ],
      "metadata": {
        "id": "itnLAnB8C9il",
        "colab": {
          "base_uri": "https://localhost:8080/"
        },
        "outputId": "750cb624-6764-4249-cccf-5ba8df9d1ff2"
      },
      "execution_count": 2,
      "outputs": [
        {
          "output_type": "stream",
          "name": "stdout",
          "text": [
            "entrez le chiffre7\n",
            "{1: 1, 2: 4, 3: 9, 4: 16, 5: 25, 6: 36, 7: 49}\n"
          ]
        }
      ]
    },
    {
      "cell_type": "code",
      "source": [
        "import numpy as np\n",
        "x=np.array([[0,1],[2,3],[4,5]]).tolist()\n",
        "print(x)"
      ],
      "metadata": {
        "id": "dDsDf7CqDNzW",
        "colab": {
          "base_uri": "https://localhost:8080/"
        },
        "outputId": "78201b21-bb6a-4c8b-a06e-54a08b91aad0"
      },
      "execution_count": 6,
      "outputs": [
        {
          "output_type": "stream",
          "name": "stdout",
          "text": [
            "[[0, 1], [2, 3], [4, 5]]\n"
          ]
        }
      ]
    },
    {
      "cell_type": "code",
      "source": [
        "import math\n",
        "numbers=[]\n",
        "while (D:=input(\"enter number and press N to stop\"))!=\"N\":\n",
        "  numbers.append(math.sqrt(10*int(D)/3))\n",
        "numbers"
      ],
      "metadata": {
        "id": "R3kJ1ls_DSRq",
        "colab": {
          "base_uri": "https://localhost:8080/"
        },
        "outputId": "07bb857a-1146-4c87-f5d6-64c1551da691"
      },
      "execution_count": 7,
      "outputs": [
        {
          "name": "stdout",
          "output_type": "stream",
          "text": [
            "enter number and press N to stop4\n",
            "enter number and press N to stop5\n",
            "enter number and press N to stopN\n"
          ]
        },
        {
          "output_type": "execute_result",
          "data": {
            "text/plain": [
              "[3.6514837167011076, 4.08248290463863]"
            ]
          },
          "metadata": {},
          "execution_count": 7
        }
      ]
    }
  ]
}